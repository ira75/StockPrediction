{
  "nbformat": 4,
  "nbformat_minor": 0,
  "metadata": {
    "colab": {
      "name": "Test_Stock_Prediction.ipynb",
      "provenance": []
    },
    "kernelspec": {
      "name": "python3",
      "display_name": "Python 3"
    },
    "language_info": {
      "name": "python"
    }
  },
  "cells": [
    {
      "cell_type": "markdown",
      "metadata": {
        "id": "X_fXPL8ngaoc"
      },
      "source": [
        "Import Libraries"
      ]
    },
    {
      "cell_type": "code",
      "metadata": {
        "id": "fpCe9mU2geGB"
      },
      "source": [
        "import numpy as np\n",
        "import matplotlib.pyplot as plt\n",
        "import pandas as pd\n",
        "from sklearn.preprocessing import MinMaxScaler\n",
        "from sklearn.metrics import mean_squared_error\n",
        "from keras.models import Sequential\n",
        "from keras.layers import LSTM\n",
        "from keras.layers import Dropout\n",
        "from keras.layers import Dense\n",
        "from keras.models import load_model"
      ],
      "execution_count": 36,
      "outputs": []
    },
    {
      "cell_type": "markdown",
      "metadata": {
        "id": "eKP9Di5qggjP"
      },
      "source": [
        "Read the train data just to get parameters for scalar tronsfrom of test data"
      ]
    },
    {
      "cell_type": "code",
      "metadata": {
        "id": "dIX0X81_gnsc"
      },
      "source": [
        "read_train_dataset = pd.read_csv(\"/content/drive/My Drive/ML/train_data_RNN.csv\",header=None)\n",
        "train_dataset=read_train_dataset.iloc[:, 1:14].values\n",
        "\n",
        "sc = MinMaxScaler()\n",
        "train_dataset_scaled= sc.fit_transform(train_dataset)"
      ],
      "execution_count": 37,
      "outputs": []
    },
    {
      "cell_type": "markdown",
      "metadata": {
        "id": "NU5sKKXrgooW"
      },
      "source": [
        "Read test data without the index values"
      ]
    },
    {
      "cell_type": "code",
      "metadata": {
        "id": "e5t8LCajgskB"
      },
      "source": [
        "read_test_dataset = pd.read_csv(\"/content/drive/My Drive/ML/test_data_RNN.csv\",header=None)\n",
        "index=read_test_dataset.iloc[:, 0].values\n",
        "test_dataset=read_test_dataset.iloc[:, 1:14].values"
      ],
      "execution_count": 38,
      "outputs": []
    },
    {
      "cell_type": "markdown",
      "metadata": {
        "id": "AlFNSYOZgt0g"
      },
      "source": [
        "Scale test data"
      ]
    },
    {
      "cell_type": "code",
      "metadata": {
        "id": "BbKRYvFugzvs"
      },
      "source": [
        "test_dataset_scaled = sc.transform(test_dataset)"
      ],
      "execution_count": 39,
      "outputs": []
    },
    {
      "cell_type": "markdown",
      "metadata": {
        "id": "eTfFCQUDg0lN"
      },
      "source": [
        "Get features as x data and target as y train data"
      ]
    },
    {
      "cell_type": "code",
      "metadata": {
        "id": "B-ohh_dMg9hr"
      },
      "source": [
        "x=np.empty((377,12),dtype=float)\n",
        "y_test=np.empty((377),dtype=float)\n",
        "\n",
        "for i in range(test_dataset_scaled.shape[0]):\n",
        "    x[i]=test_dataset_scaled[i,0:12]\n",
        "    y_test[i]=test_dataset_scaled[i,12:]\n",
        "\n",
        "#reshape x_train to (377,3,4)\n",
        "x_test=x.reshape(377,3,4)"
      ],
      "execution_count": 40,
      "outputs": []
    },
    {
      "cell_type": "markdown",
      "metadata": {
        "id": "Zx2iALcbg_XN"
      },
      "source": [
        "Load the saved LSTM model and predict the stock values based on the model"
      ]
    },
    {
      "cell_type": "code",
      "metadata": {
        "colab": {
          "base_uri": "https://localhost:8080/"
        },
        "id": "Me2A9EzLhKkI",
        "outputId": "e20af2f1-fd13-4ef3-d54f-42716ca6e401"
      },
      "source": [
        "model =load_model('/content/drive/My Drive/ML/RNN_model.h5')\n",
        "\n",
        "#predict the stock values\n",
        "y_pred = model.predict(x_test,verbose=1)\n",
        "y_pred = y_pred.flatten()"
      ],
      "execution_count": 41,
      "outputs": [
        {
          "output_type": "stream",
          "text": [
            "12/12 [==============================] - 2s 3ms/step\n"
          ],
          "name": "stdout"
        }
      ]
    },
    {
      "cell_type": "markdown",
      "metadata": {
        "id": "tOjo6AibhLp-"
      },
      "source": [
        "Invert the scalar transform used to get data in original readable form"
      ]
    },
    {
      "cell_type": "code",
      "metadata": {
        "id": "iWHnGzVIhSCg"
      },
      "source": [
        "features=3\n",
        "y_pred_plot = (y_pred * sc.data_range_[features]) + sc.data_min_[features]\n",
        "y_test_plot = (y_test * sc.data_range_[features]) + sc.data_min_[features]"
      ],
      "execution_count": 42,
      "outputs": []
    },
    {
      "cell_type": "markdown",
      "metadata": {
        "id": "h-ztyT2xhS6f"
      },
      "source": [
        "Creating another array for y_pred and y_test data, to add index column and sort data for plotting"
      ]
    },
    {
      "cell_type": "code",
      "metadata": {
        "id": "5QtaQdVVhbyl"
      },
      "source": [
        "y_pred_sort=np.empty((377,2),dtype=float)\n",
        "y_test_sort=np.empty((377,2),dtype=float)\n",
        "\n",
        "for i in range(y_pred_sort.shape[0]):\n",
        "    y_pred_sort[i][0]=index[i]\n",
        "    y_pred_sort[i][1]=y_pred_plot[i]\n",
        "\n",
        "for i in range(y_test_sort.shape[0]):\n",
        "    y_test_sort[i][0]=index[i]\n",
        "    y_test_sort[i][1]=y_test_plot[i]\n",
        "\n",
        "columnIndex = 0\n",
        "# Sort numpy array by index Column\n",
        "sorted_ypred = y_pred_sort[y_pred_sort[:,columnIndex].argsort()]\n",
        "sorted_ytest = y_test_sort[y_test_sort[:,columnIndex].argsort()]"
      ],
      "execution_count": 43,
      "outputs": []
    },
    {
      "cell_type": "markdown",
      "metadata": {
        "id": "DTOGvg1Chd0_"
      },
      "source": [
        "Get the predicted stock price values from sorted array"
      ]
    },
    {
      "cell_type": "code",
      "metadata": {
        "id": "tEeUDHcPhiBI"
      },
      "source": [
        "y1=sorted_ypred.transpose()\n",
        "y_pred_plot=y1[1]"
      ],
      "execution_count": 44,
      "outputs": []
    },
    {
      "cell_type": "markdown",
      "metadata": {
        "id": "hzn8KKizhj5v"
      },
      "source": [
        "Get the y_test actual stock price values from the sorted array"
      ]
    },
    {
      "cell_type": "code",
      "metadata": {
        "id": "gf3FaKYcho4o"
      },
      "source": [
        "y1=sorted_ytest.transpose()\n",
        "y_test_plot=y1[1]"
      ],
      "execution_count": 45,
      "outputs": []
    },
    {
      "cell_type": "markdown",
      "metadata": {
        "id": "-6N5meTJhpqB"
      },
      "source": [
        "Plot the stock price "
      ]
    },
    {
      "cell_type": "code",
      "metadata": {
        "colab": {
          "base_uri": "https://localhost:8080/",
          "height": 330
        },
        "id": "YE0FGVYXgAwo",
        "outputId": "01ae0320-00ff-4a25-90d3-7e1f8b0a0ec1"
      },
      "source": [
        "plt.plot(y_test_plot, color = 'blue', label = 'Stock Price')\n",
        "plt.plot(y_pred_plot, color = 'orange', label = 'Predicted Stock Price')\n",
        "plt.title('Stock Price Prediction')\n",
        "plt.xlabel('Time')\n",
        "plt.ylabel('Stock Price')\n",
        "plt.legend()\n",
        "plt.show()\n",
        "print()\n",
        "\n",
        "mse=mean_squared_error(y_pred_plot, y_test_plot,squared=False)\n",
        "print(\"Loss=\",mse)\n"
      ],
      "execution_count": 46,
      "outputs": [
        {
          "output_type": "display_data",
          "data": {
            "image/png": "[encoded data removed]",
            "text/plain": [
              "<Figure size 432x288 with 1 Axes>"
            ]
          },
          "metadata": {
            "tags": [],
            "needs_background": "light"
          }
        },
        {
          "output_type": "stream",
          "text": [
            "\n",
            "Loss= 5.367721163563926\n"
          ],
          "name": "stdout"
        }
      ]
    }
  ]
}