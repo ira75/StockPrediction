{
  "nbformat": 4,
  "nbformat_minor": 0,
  "metadata": {
    "colab": {
      "name": "Train_Stock_Prediction.ipynb",
      "provenance": []
    },
    "kernelspec": {
      "name": "python3",
      "display_name": "Python 3"
    },
    "language_info": {
      "name": "python"
    }
  },
  "cells": [
    {
      "cell_type": "markdown",
      "metadata": {
        "id": "qyG779j7kR4B"
      },
      "source": [
        "Import the libraries"
      ]
    },
    {
      "cell_type": "code",
      "metadata": {
        "id": "91KVLM--kN5P"
      },
      "source": [
        "import numpy as np\n",
        "#import matplotlib.pyplot as plt\n",
        "import pandas as pd\n",
        "from sklearn.preprocessing import MinMaxScaler\n",
        "from sklearn.model_selection import train_test_split\n",
        "from keras.models import Sequential\n",
        "from keras.layers import LSTM\n",
        "from keras.layers import Dropout\n",
        "from keras.layers import Dense"
      ],
      "execution_count": 3,
      "outputs": []
    },
    {
      "cell_type": "markdown",
      "metadata": {
        "id": "86gfe4XtkWct"
      },
      "source": [
        "Read train data"
      ]
    },
    {
      "cell_type": "code",
      "metadata": {
        "id": "K15-UNEbkV3Z"
      },
      "source": [
        "read_train_dataset = pd.read_csv(\"/content/drive/My Drive/ML/train_data_RNN.csv\",header=None)\n",
        "train_dataset=read_train_dataset.iloc[:, 1:14].values"
      ],
      "execution_count": 4,
      "outputs": []
    },
    {
      "cell_type": "markdown",
      "metadata": {
        "id": "jyoqewVplGee"
      },
      "source": [
        "Scaling the data using MinMaxScaler"
      ]
    },
    {
      "cell_type": "code",
      "metadata": {
        "id": "EaVqocIylIfl"
      },
      "source": [
        "sc = MinMaxScaler()\n",
        "train_dataset_scaled= sc.fit_transform(train_dataset)"
      ],
      "execution_count": 5,
      "outputs": []
    },
    {
      "cell_type": "markdown",
      "metadata": {
        "id": "4_uhuZISlLXa"
      },
      "source": [
        "Splitting train data into x_train and y_train"
      ]
    },
    {
      "cell_type": "code",
      "metadata": {
        "id": "18qa4iHJlP0U"
      },
      "source": [
        "x=np.empty((879,12),dtype=float)\n",
        "y_train=np.empty((879),dtype=float)\n",
        "\n",
        "for i in range(train_dataset_scaled.shape[0]):\n",
        "    x[i]=train_dataset_scaled[i,0:12]\n",
        "    y_train[i]=train_dataset_scaled[i,12:]"
      ],
      "execution_count": 6,
      "outputs": []
    },
    {
      "cell_type": "markdown",
      "metadata": {
        "id": "7dPXKEVqlShx"
      },
      "source": [
        "Reshaping x data into (879,3,4) from (879,12)"
      ]
    },
    {
      "cell_type": "code",
      "metadata": {
        "id": "xj-LR6eplUMo"
      },
      "source": [
        "x_train=x.reshape(879,3,4)"
      ],
      "execution_count": 7,
      "outputs": []
    },
    {
      "cell_type": "markdown",
      "metadata": {
        "id": "US8xPLqflW4F"
      },
      "source": [
        "Defining LSTM Model"
      ]
    },
    {
      "cell_type": "code",
      "metadata": {
        "colab": {
          "base_uri": "https://localhost:8080/"
        },
        "id": "kSM7SpMAk_n0",
        "outputId": "433b1fca-d78d-4df4-99ba-cc458f887e1c"
      },
      "source": [
        "model = Sequential()\n",
        "model.add(LSTM(units=50,return_sequences=True,input_shape=(x_train.shape[1], x_train.shape[2])))\n",
        "model.add(Dropout(0.2))\n",
        "model.add(LSTM(units=50,return_sequences=True))\n",
        "model.add(Dropout(0.2))\n",
        "model.add(LSTM(units=50,return_sequences=True))\n",
        "model.add(Dropout(0.2))\n",
        "model.add(LSTM(units=50))\n",
        "model.add(Dropout(0.2))\n",
        "model.add(Dense(units=1))\n",
        "print(model.summary())"
      ],
      "execution_count": 8,
      "outputs": [
        {
          "output_type": "stream",
          "text": [
            "Model: \"sequential\"\n",
            "_________________________________________________________________\n",
            "Layer (type)                 Output Shape              Param #   \n",
            "=================================================================\n",
            "lstm (LSTM)                  (None, 3, 50)             11000     \n",
            "_________________________________________________________________\n",
            "dropout (Dropout)            (None, 3, 50)             0         \n",
            "_________________________________________________________________\n",
            "lstm_1 (LSTM)                (None, 3, 50)             20200     \n",
            "_________________________________________________________________\n",
            "dropout_1 (Dropout)          (None, 3, 50)             0         \n",
            "_________________________________________________________________\n",
            "lstm_2 (LSTM)                (None, 3, 50)             20200     \n",
            "_________________________________________________________________\n",
            "dropout_2 (Dropout)          (None, 3, 50)             0         \n",
            "_________________________________________________________________\n",
            "lstm_3 (LSTM)                (None, 50)                20200     \n",
            "_________________________________________________________________\n",
            "dropout_3 (Dropout)          (None, 50)                0         \n",
            "_________________________________________________________________\n",
            "dense (Dense)                (None, 1)                 51        \n",
            "=================================================================\n",
            "Total params: 71,651\n",
            "Trainable params: 71,651\n",
            "Non-trainable params: 0\n",
            "_________________________________________________________________\n",
            "None\n"
          ],
          "name": "stdout"
        }
      ]
    },
    {
      "cell_type": "markdown",
      "metadata": {
        "id": "ap0R5bjpk_O_"
      },
      "source": [
        "Compile and fit the LSTM model on train data"
      ]
    },
    {
      "cell_type": "code",
      "metadata": {
        "colab": {
          "base_uri": "https://localhost:8080/"
        },
        "id": "akEi65UFlfKF",
        "outputId": "2413f4ba-7bcd-4d6e-804e-5750ae11cd2a"
      },
      "source": [
        "model.compile(optimizer='adam',loss='mean_squared_error',metrics=['accuracy'])\n",
        "history=model.fit(x_train,y_train,epochs=100,batch_size=32,verbose=1)"
      ],
      "execution_count": 9,
      "outputs": [
        {
          "output_type": "stream",
          "text": [
            "Epoch 1/100\n",
            "28/28 [==============================] - 24s 11ms/step - loss: 0.0856 - accuracy: 7.8459e-05\n",
            "Epoch 2/100\n",
            "28/28 [==============================] - 0s 11ms/step - loss: 0.0162 - accuracy: 4.5074e-04\n",
            "Epoch 3/100\n",
            "28/28 [==============================] - 0s 12ms/step - loss: 0.0053 - accuracy: 0.0061\n",
            "Epoch 4/100\n",
            "28/28 [==============================] - 0s 11ms/step - loss: 0.0029 - accuracy: 0.0019\n",
            "Epoch 5/100\n",
            "28/28 [==============================] - 0s 11ms/step - loss: 0.0030 - accuracy: 0.0016\n",
            "Epoch 6/100\n",
            "28/28 [==============================] - 0s 12ms/step - loss: 0.0024 - accuracy: 0.0021\n",
            "Epoch 7/100\n",
            "28/28 [==============================] - 0s 12ms/step - loss: 0.0016 - accuracy: 0.0019\n",
            "Epoch 8/100\n",
            "28/28 [==============================] - 0s 11ms/step - loss: 0.0022 - accuracy: 0.0043\n",
            "Epoch 9/100\n",
            "28/28 [==============================] - 0s 11ms/step - loss: 0.0019 - accuracy: 0.0015\n",
            "Epoch 10/100\n",
            "28/28 [==============================] - 0s 11ms/step - loss: 0.0019 - accuracy: 0.0023\n",
            "Epoch 11/100\n",
            "28/28 [==============================] - 0s 11ms/step - loss: 0.0019 - accuracy: 7.5338e-04\n",
            "Epoch 12/100\n",
            "28/28 [==============================] - 0s 12ms/step - loss: 0.0016 - accuracy: 6.4278e-04\n",
            "Epoch 13/100\n",
            "28/28 [==============================] - 0s 12ms/step - loss: 0.0017 - accuracy: 0.0044\n",
            "Epoch 14/100\n",
            "28/28 [==============================] - 0s 11ms/step - loss: 0.0015 - accuracy: 0.0014\n",
            "Epoch 15/100\n",
            "28/28 [==============================] - 0s 12ms/step - loss: 0.0016 - accuracy: 4.9759e-04\n",
            "Epoch 16/100\n",
            "28/28 [==============================] - 0s 11ms/step - loss: 0.0015 - accuracy: 0.0018\n",
            "Epoch 17/100\n",
            "28/28 [==============================] - 0s 11ms/step - loss: 0.0016 - accuracy: 0.0010\n",
            "Epoch 18/100\n",
            "28/28 [==============================] - 0s 12ms/step - loss: 0.0016 - accuracy: 0.0023\n",
            "Epoch 19/100\n",
            "28/28 [==============================] - 0s 11ms/step - loss: 0.0017 - accuracy: 0.0032\n",
            "Epoch 20/100\n",
            "28/28 [==============================] - 0s 11ms/step - loss: 0.0017 - accuracy: 0.0012\n",
            "Epoch 21/100\n",
            "28/28 [==============================] - 0s 11ms/step - loss: 0.0016 - accuracy: 5.4657e-04\n",
            "Epoch 22/100\n",
            "28/28 [==============================] - 0s 12ms/step - loss: 0.0016 - accuracy: 6.4278e-04\n",
            "Epoch 23/100\n",
            "28/28 [==============================] - 0s 11ms/step - loss: 0.0019 - accuracy: 0.0010\n",
            "Epoch 24/100\n",
            "28/28 [==============================] - 0s 11ms/step - loss: 0.0013 - accuracy: 0.0033\n",
            "Epoch 25/100\n",
            "28/28 [==============================] - 0s 11ms/step - loss: 0.0013 - accuracy: 0.0011\n",
            "Epoch 26/100\n",
            "28/28 [==============================] - 0s 11ms/step - loss: 0.0015 - accuracy: 0.0032\n",
            "Epoch 27/100\n",
            "28/28 [==============================] - 0s 11ms/step - loss: 0.0015 - accuracy: 0.0023\n",
            "Epoch 28/100\n",
            "28/28 [==============================] - 0s 11ms/step - loss: 0.0014 - accuracy: 0.0027\n",
            "Epoch 29/100\n",
            "28/28 [==============================] - 0s 12ms/step - loss: 0.0014 - accuracy: 0.0056\n",
            "Epoch 30/100\n",
            "28/28 [==============================] - 0s 12ms/step - loss: 0.0012 - accuracy: 0.0022\n",
            "Epoch 31/100\n",
            "28/28 [==============================] - 0s 12ms/step - loss: 0.0012 - accuracy: 0.0041\n",
            "Epoch 32/100\n",
            "28/28 [==============================] - 0s 12ms/step - loss: 0.0013 - accuracy: 0.0010\n",
            "Epoch 33/100\n",
            "28/28 [==============================] - 0s 11ms/step - loss: 0.0018 - accuracy: 0.0023\n",
            "Epoch 34/100\n",
            "28/28 [==============================] - 0s 11ms/step - loss: 0.0012 - accuracy: 0.0033\n",
            "Epoch 35/100\n",
            "28/28 [==============================] - 0s 11ms/step - loss: 0.0014 - accuracy: 0.0050\n",
            "Epoch 36/100\n",
            "28/28 [==============================] - 0s 11ms/step - loss: 0.0018 - accuracy: 0.0020\n",
            "Epoch 37/100\n",
            "28/28 [==============================] - 0s 12ms/step - loss: 0.0014 - accuracy: 0.0018\n",
            "Epoch 38/100\n",
            "28/28 [==============================] - 0s 11ms/step - loss: 0.0011 - accuracy: 0.0022\n",
            "Epoch 39/100\n",
            "28/28 [==============================] - 0s 12ms/step - loss: 0.0013 - accuracy: 0.0010\n",
            "Epoch 40/100\n",
            "28/28 [==============================] - 0s 12ms/step - loss: 0.0012 - accuracy: 0.0045\n",
            "Epoch 41/100\n",
            "28/28 [==============================] - 0s 13ms/step - loss: 0.0013 - accuracy: 0.0015\n",
            "Epoch 42/100\n",
            "28/28 [==============================] - 0s 13ms/step - loss: 0.0012 - accuracy: 0.0028\n",
            "Epoch 43/100\n",
            "28/28 [==============================] - 0s 13ms/step - loss: 0.0014 - accuracy: 0.0038\n",
            "Epoch 44/100\n",
            "28/28 [==============================] - 0s 11ms/step - loss: 0.0011 - accuracy: 0.0020\n",
            "Epoch 45/100\n",
            "28/28 [==============================] - 0s 12ms/step - loss: 0.0015 - accuracy: 0.0016\n",
            "Epoch 46/100\n",
            "28/28 [==============================] - 0s 14ms/step - loss: 0.0011 - accuracy: 0.0022\n",
            "Epoch 47/100\n",
            "28/28 [==============================] - 0s 12ms/step - loss: 0.0013 - accuracy: 0.0015\n",
            "Epoch 48/100\n",
            "28/28 [==============================] - 0s 11ms/step - loss: 0.0011 - accuracy: 0.0022\n",
            "Epoch 49/100\n",
            "28/28 [==============================] - 0s 12ms/step - loss: 0.0012 - accuracy: 0.0025\n",
            "Epoch 50/100\n",
            "28/28 [==============================] - 0s 11ms/step - loss: 0.0012 - accuracy: 0.0025\n",
            "Epoch 51/100\n",
            "28/28 [==============================] - 0s 11ms/step - loss: 0.0012 - accuracy: 9.0052e-04\n",
            "Epoch 52/100\n",
            "28/28 [==============================] - 0s 13ms/step - loss: 0.0014 - accuracy: 0.0012\n",
            "Epoch 53/100\n",
            "28/28 [==============================] - 0s 12ms/step - loss: 9.7971e-04 - accuracy: 0.0011\n",
            "Epoch 54/100\n",
            "28/28 [==============================] - 0s 13ms/step - loss: 9.9473e-04 - accuracy: 0.0017\n",
            "Epoch 55/100\n",
            "28/28 [==============================] - 0s 11ms/step - loss: 9.4453e-04 - accuracy: 0.0042\n",
            "Epoch 56/100\n",
            "28/28 [==============================] - 0s 11ms/step - loss: 0.0011 - accuracy: 0.0030\n",
            "Epoch 57/100\n",
            "28/28 [==============================] - 0s 12ms/step - loss: 0.0014 - accuracy: 6.8379e-04\n",
            "Epoch 58/100\n",
            "28/28 [==============================] - 0s 12ms/step - loss: 0.0013 - accuracy: 0.0019\n",
            "Epoch 59/100\n",
            "28/28 [==============================] - 0s 12ms/step - loss: 0.0013 - accuracy: 0.0050\n",
            "Epoch 60/100\n",
            "28/28 [==============================] - 0s 11ms/step - loss: 0.0013 - accuracy: 0.0034\n",
            "Epoch 61/100\n",
            "28/28 [==============================] - 0s 12ms/step - loss: 0.0013 - accuracy: 0.0034\n",
            "Epoch 62/100\n",
            "28/28 [==============================] - 0s 12ms/step - loss: 0.0011 - accuracy: 0.0051\n",
            "Epoch 63/100\n",
            "28/28 [==============================] - 0s 12ms/step - loss: 9.4354e-04 - accuracy: 0.0022\n",
            "Epoch 64/100\n",
            "28/28 [==============================] - 0s 12ms/step - loss: 0.0012 - accuracy: 5.1333e-04\n",
            "Epoch 65/100\n",
            "28/28 [==============================] - 0s 11ms/step - loss: 0.0016 - accuracy: 0.0050\n",
            "Epoch 66/100\n",
            "28/28 [==============================] - 0s 11ms/step - loss: 0.0012 - accuracy: 0.0044\n",
            "Epoch 67/100\n",
            "28/28 [==============================] - 0s 12ms/step - loss: 0.0010 - accuracy: 0.0020\n",
            "Epoch 68/100\n",
            "28/28 [==============================] - 0s 11ms/step - loss: 7.9369e-04 - accuracy: 0.0038\n",
            "Epoch 69/100\n",
            "28/28 [==============================] - 0s 12ms/step - loss: 9.9477e-04 - accuracy: 0.0066\n",
            "Epoch 70/100\n",
            "28/28 [==============================] - 0s 13ms/step - loss: 0.0012 - accuracy: 0.0050\n",
            "Epoch 71/100\n",
            "28/28 [==============================] - 0s 13ms/step - loss: 0.0012 - accuracy: 0.0024\n",
            "Epoch 72/100\n",
            "28/28 [==============================] - 0s 12ms/step - loss: 0.0010 - accuracy: 0.0032\n",
            "Epoch 73/100\n",
            "28/28 [==============================] - 0s 12ms/step - loss: 0.0011 - accuracy: 0.0022\n",
            "Epoch 74/100\n",
            "28/28 [==============================] - 0s 12ms/step - loss: 8.6554e-04 - accuracy: 0.0016\n",
            "Epoch 75/100\n",
            "28/28 [==============================] - 0s 12ms/step - loss: 0.0011 - accuracy: 0.0030\n",
            "Epoch 76/100\n",
            "28/28 [==============================] - 0s 11ms/step - loss: 0.0011 - accuracy: 0.0018\n",
            "Epoch 77/100\n",
            "28/28 [==============================] - 0s 12ms/step - loss: 0.0010 - accuracy: 0.0017\n",
            "Epoch 78/100\n",
            "28/28 [==============================] - 0s 11ms/step - loss: 0.0013 - accuracy: 7.4351e-04\n",
            "Epoch 79/100\n",
            "28/28 [==============================] - 0s 12ms/step - loss: 0.0011 - accuracy: 0.0017\n",
            "Epoch 80/100\n",
            "28/28 [==============================] - 0s 11ms/step - loss: 0.0010 - accuracy: 5.6721e-04\n",
            "Epoch 81/100\n",
            "28/28 [==============================] - 0s 11ms/step - loss: 9.1620e-04 - accuracy: 0.0011\n",
            "Epoch 82/100\n",
            "28/28 [==============================] - 0s 12ms/step - loss: 8.5576e-04 - accuracy: 0.0054\n",
            "Epoch 83/100\n",
            "28/28 [==============================] - 0s 13ms/step - loss: 0.0013 - accuracy: 0.0011\n",
            "Epoch 84/100\n",
            "28/28 [==============================] - 0s 11ms/step - loss: 8.2095e-04 - accuracy: 0.0030\n",
            "Epoch 85/100\n",
            "28/28 [==============================] - 0s 13ms/step - loss: 0.0010 - accuracy: 0.0031\n",
            "Epoch 86/100\n",
            "28/28 [==============================] - 0s 13ms/step - loss: 0.0012 - accuracy: 6.5176e-04\n",
            "Epoch 87/100\n",
            "28/28 [==============================] - 0s 11ms/step - loss: 0.0011 - accuracy: 0.0014\n",
            "Epoch 88/100\n",
            "28/28 [==============================] - 0s 12ms/step - loss: 0.0010 - accuracy: 0.0027\n",
            "Epoch 89/100\n",
            "28/28 [==============================] - 0s 12ms/step - loss: 0.0010 - accuracy: 0.0026\n",
            "Epoch 90/100\n",
            "28/28 [==============================] - 0s 12ms/step - loss: 7.3484e-04 - accuracy: 0.0055\n",
            "Epoch 91/100\n",
            "28/28 [==============================] - 0s 13ms/step - loss: 0.0011 - accuracy: 0.0039\n",
            "Epoch 92/100\n",
            "28/28 [==============================] - 0s 12ms/step - loss: 9.0453e-04 - accuracy: 7.0848e-04\n",
            "Epoch 93/100\n",
            "28/28 [==============================] - 0s 12ms/step - loss: 0.0011 - accuracy: 0.0034\n",
            "Epoch 94/100\n",
            "28/28 [==============================] - 0s 12ms/step - loss: 8.2455e-04 - accuracy: 0.0016\n",
            "Epoch 95/100\n",
            "28/28 [==============================] - 0s 12ms/step - loss: 9.6337e-04 - accuracy: 6.9666e-04\n",
            "Epoch 96/100\n",
            "28/28 [==============================] - 0s 12ms/step - loss: 0.0010 - accuracy: 0.0028\n",
            "Epoch 97/100\n",
            "28/28 [==============================] - 0s 13ms/step - loss: 0.0011 - accuracy: 0.0019\n",
            "Epoch 98/100\n",
            "28/28 [==============================] - 0s 12ms/step - loss: 0.0011 - accuracy: 0.0058\n",
            "Epoch 99/100\n",
            "28/28 [==============================] - 0s 12ms/step - loss: 0.0012 - accuracy: 0.0033\n",
            "Epoch 100/100\n",
            "28/28 [==============================] - 0s 12ms/step - loss: 9.1850e-04 - accuracy: 0.0024\n"
          ],
          "name": "stdout"
        }
      ]
    },
    {
      "cell_type": "markdown",
      "metadata": {
        "id": "HmXn4tdzlgrG"
      },
      "source": [
        "Save the model "
      ]
    },
    {
      "cell_type": "code",
      "metadata": {
        "id": "flu5V-mvlihT"
      },
      "source": [
        "model.save('/content/drive/My Drive/ML/RNN_model.h5')"
      ],
      "execution_count": 10,
      "outputs": []
    },
    {
      "cell_type": "markdown",
      "metadata": {
        "id": "UsCy3dXqlmAq"
      },
      "source": [
        "Print the final train accuracy and loss value"
      ]
    },
    {
      "cell_type": "code",
      "metadata": {
        "colab": {
          "base_uri": "https://localhost:8080/"
        },
        "id": "xsQboHv_lkBq",
        "outputId": "a361d641-923a-49ec-95cd-1da10094855d"
      },
      "source": [
        "print(\"Final training accuracy:\", history.history['accuracy'][-1]*100)\n",
        "print(\"Final training loss:\", history.history['loss'][-1])"
      ],
      "execution_count": 11,
      "outputs": [
        {
          "output_type": "stream",
          "text": [
            "Final training accuracy: 0.22753127850592136\n",
            "Final training loss: 0.000914936070330441\n"
          ],
          "name": "stdout"
        }
      ]
    }
  ]
}